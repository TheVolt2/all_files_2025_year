{
  "nbformat": 4,
  "nbformat_minor": 0,
  "metadata": {
    "colab": {
      "provenance": [],
      "authorship_tag": "ABX9TyO/hxpl68kiFJLCKq++ZcUj",
      "include_colab_link": true
    },
    "kernelspec": {
      "name": "python3",
      "display_name": "Python 3"
    },
    "language_info": {
      "name": "python"
    }
  },
  "cells": [
    {
      "cell_type": "markdown",
      "metadata": {
        "id": "view-in-github",
        "colab_type": "text"
      },
      "source": [
        "<a href=\"https://colab.research.google.com/github/TheVolt2/all_files_2025_year/blob/main/colab_ai_coddy.ipynb\" target=\"_parent\"><img src=\"https://colab.research.google.com/assets/colab-badge.svg\" alt=\"Open In Colab\"/></a>"
      ]
    },
    {
      "cell_type": "code",
      "source": [
        "import nltk\n",
        "\n",
        "# Загружаем необходимые ресурсы\n",
        "nltk.download('punkt')\n",
        "nltk.download('punkt_tab')"
      ],
      "metadata": {
        "colab": {
          "base_uri": "https://localhost:8080/"
        },
        "id": "uy9rvIHNQlHR",
        "outputId": "3e5992a5-45c7-4042-a8fe-4dc848dbf2c3"
      },
      "execution_count": 6,
      "outputs": [
        {
          "output_type": "stream",
          "name": "stderr",
          "text": [
            "[nltk_data] Downloading package punkt to /root/nltk_data...\n",
            "[nltk_data]   Package punkt is already up-to-date!\n",
            "[nltk_data] Downloading package punkt_tab to /root/nltk_data...\n",
            "[nltk_data]   Unzipping tokenizers/punkt_tab.zip.\n"
          ]
        },
        {
          "output_type": "execute_result",
          "data": {
            "text/plain": [
              "True"
            ]
          },
          "metadata": {},
          "execution_count": 6
        }
      ]
    },
    {
      "cell_type": "code",
      "source": [
        "# Проверяем, что ресурсы загружены\n",
        "print(nltk.data.find('tokenizers/punkt'))\n",
        "print(nltk.data.find('tokenizers/punkt_tab'))"
      ],
      "metadata": {
        "colab": {
          "base_uri": "https://localhost:8080/"
        },
        "id": "CKLXJDEEQleP",
        "outputId": "dcf20251-6ae7-446e-c063-cb890d323ae1"
      },
      "execution_count": 7,
      "outputs": [
        {
          "output_type": "stream",
          "name": "stdout",
          "text": [
            "/root/nltk_data/tokenizers/punkt\n",
            "/root/nltk_data/tokenizers/punkt_tab\n"
          ]
        }
      ]
    },
    {
      "cell_type": "code",
      "source": [
        "from nltk.tokenize import word_tokenize\n",
        "\n",
        "# Разделим текст на слова\n",
        "tokens = word_tokenize(text)\n",
        "print(tokens)"
      ],
      "metadata": {
        "colab": {
          "base_uri": "https://localhost:8080/"
        },
        "id": "fQMBs_axQm8F",
        "outputId": "230c9d85-1852-48cd-f76a-3ba773a9c26a"
      },
      "execution_count": 8,
      "outputs": [
        {
          "output_type": "stream",
          "name": "stdout",
          "text": [
            "['Steam', 'is', 'a', 'video', 'game', 'digital', 'distribution', 'service', 'and', 'storefront', 'developed', 'by', 'Valve', 'Corporation', '.', 'It', 'was', 'launched', 'as', 'a', 'software', 'client', 'in', 'September', '2003', 'to', 'provide', 'game', 'updates', 'automatically', 'for', 'Valve', \"'s\", 'games', ',', 'and', 'expanded', 'to', 'distributing', 'third-party', 'titles', 'in', 'late', '2005', '.', 'Steam', 'offers', 'various', 'features', ',', 'like', 'game', 'server', 'matchmaking', 'with', 'Valve', 'Anti-Cheat', 'measures', ',', 'social', 'networking', ',', 'and', 'game', 'streaming', 'services', '.', 'Steam', 'client', \"'s\", 'functions', 'include', 'game', 'update', 'automation', ',', 'cloud', 'storage', 'for', 'game', 'progress', ',', 'and', 'community', 'features', 'such', 'as', 'direct', 'messaging', ',', 'in-game', 'overlay', 'functions', 'and', 'a', 'virtual', 'collectable', 'marketplace.The', 'Great', 'Depression', '(', '1929–1939', ')', 'was', 'an', 'economic', 'shock', 'that', 'affected', 'most', 'countries', 'across', 'the', 'world', '.', 'It', 'was', 'a', 'period', 'of', 'economic', 'depression', 'that', 'became', 'evident', 'after', 'a', 'major', 'fall', 'in', 'stock', 'prices', 'in', 'the', 'United', 'States', '.', 'The', 'economic', 'contagion', 'began', 'around', 'September', '1929', 'and', 'led', 'to', 'the', 'Wall', 'Street', 'stock', 'market', 'crash', 'of', '24', 'October', '(', 'Black', 'Thursday', ')', '.', 'It', 'was', 'the', 'longest', ',', 'deepest', ',', 'and', 'most', 'widespread', 'depression', 'of', 'the', '20th', 'century', '.']\n"
          ]
        }
      ]
    },
    {
      "cell_type": "code",
      "source": [
        "import nltk\n",
        "from nltk.tokenize import sent_tokenize, word_tokenize\n",
        "\n",
        "# Загружаем необходимые ресурсы\n",
        "nltk.download('punkt')\n",
        "nltk.download('punkt_tab')\n",
        "\n",
        "# Отрывок из статьи про Steam в Википедии\n",
        "text1 = \"\"\"\n",
        "    Steam is a video game digital distribution service and storefront developed\n",
        "    by Valve Corporation. It was launched as a software client in September 2003\n",
        "    to provide game updates automatically for Valve's games, and expanded to\n",
        "    distributing third-party titles in late 2005. Steam offers various features,\n",
        "    like game server matchmaking with Valve Anti-Cheat measures, social\n",
        "    networking, and game streaming services. Steam client's functions include\n",
        "    game update automation, cloud storage for game progress, and community\n",
        "    features such as direct messaging, in-game overlay functions and a virtual\n",
        "    collectable marketplace.\n",
        "\"\"\"\n",
        "\n",
        "# Отрывок из статьи про Великую Депрессию в Википедии\n",
        "text2 = \"\"\"\n",
        "    The Great Depression (1929–1939) was an economic shock that affected most\n",
        "    countries across the world. It was a period of economic depression that\n",
        "    became evident after a major fall in stock prices in the United States.\n",
        "    The economic contagion began around September 1929 and led to the Wall\n",
        "    Street stock market crash of 24 October (Black Thursday). It was the longest,\n",
        "    deepest, and most widespread depression of the 20th century.\n",
        "\"\"\"\n",
        "\n",
        "# Очистим тексты от лишних знаков переноса и пробелов\n",
        "text1 = text1.replace('\\n', \"\").replace('     ', \" \").strip()\n",
        "text2 = text2.replace('\\n', \"\").replace('     ', \" \").strip()\n",
        "\n",
        "# Объединим два текста в один\n",
        "text = text1 + text2\n",
        "\n",
        "# Разделим текст на предложения\n",
        "try:\n",
        "    sentences = sent_tokenize(text)\n",
        "    print(sentences)\n",
        "except LookupError:\n",
        "    print(\"Ресурс punkt_tab не найден. Используем word_tokenize.\")\n",
        "    tokens = word_tokenize(text)\n",
        "    print(tokens)"
      ],
      "metadata": {
        "colab": {
          "base_uri": "https://localhost:8080/"
        },
        "id": "AeV2H8pFQocq",
        "outputId": "3092cd22-1e29-45c2-b24c-4622fa745afc"
      },
      "execution_count": 9,
      "outputs": [
        {
          "output_type": "stream",
          "name": "stdout",
          "text": [
            "['Steam is a video game digital distribution service and storefront developed by Valve Corporation.', \"It was launched as a software client in September 2003 to provide game updates automatically for Valve's games, and expanded to distributing third-party titles in late 2005.\", 'Steam offers various features, like game server matchmaking with Valve Anti-Cheat measures, social networking, and game streaming services.', \"Steam client's functions include game update automation, cloud storage for game progress, and community features such as direct messaging, in-game overlay functions and a virtual collectable marketplace.The Great Depression (1929–1939) was an economic shock that affected most countries across the world.\", 'It was a period of economic depression that became evident after a major fall in stock prices in the United States.', 'The economic contagion began around September 1929 and led to the Wall Street stock market crash of 24 October (Black Thursday).', 'It was the longest, deepest, and most widespread depression of the 20th century.']\n"
          ]
        },
        {
          "output_type": "stream",
          "name": "stderr",
          "text": [
            "[nltk_data] Downloading package punkt to /root/nltk_data...\n",
            "[nltk_data]   Package punkt is already up-to-date!\n",
            "[nltk_data] Downloading package punkt_tab to /root/nltk_data...\n",
            "[nltk_data]   Package punkt_tab is already up-to-date!\n"
          ]
        }
      ]
    },
    {
      "cell_type": "code",
      "source": [
        "from sklearn.feature_extraction.text import TfidfVectorizer\n",
        "\n",
        "# Создадим объект TfidfVectorizer\n",
        "tfidf_vectorizer = TfidfVectorizer(use_idf=True, stop_words='english')\n",
        "\n",
        "# Векторизируем предложения\n",
        "X = tfidf_vectorizer.fit_transform(sentences)\n",
        "print(X.toarray())"
      ],
      "metadata": {
        "colab": {
          "base_uri": "https://localhost:8080/"
        },
        "id": "uu_M8evhRexe",
        "outputId": "397aa2ac-ae5b-4440-ed58-899760175606"
      },
      "execution_count": 10,
      "outputs": [
        {
          "output_type": "stream",
          "name": "stdout",
          "text": [
            "[[0.         0.         0.         0.         0.         0.\n",
            "  0.         0.         0.         0.         0.         0.\n",
            "  0.         0.         0.         0.         0.         0.\n",
            "  0.         0.34531356 0.         0.         0.         0.\n",
            "  0.34531356 0.34531356 0.         0.         0.34531356 0.\n",
            "  0.         0.         0.         0.         0.         0.21271985\n",
            "  0.         0.         0.         0.         0.         0.\n",
            "  0.         0.         0.         0.         0.         0.\n",
            "  0.         0.         0.         0.         0.         0.\n",
            "  0.         0.         0.         0.         0.         0.\n",
            "  0.         0.34531356 0.         0.         0.         0.\n",
            "  0.         0.24501029 0.         0.         0.34531356 0.\n",
            "  0.         0.         0.         0.         0.         0.\n",
            "  0.24501029 0.         0.34531356 0.         0.         0.\n",
            "  0.        ]\n",
            " [0.         0.         0.25598147 0.25598147 0.         0.\n",
            "  0.         0.         0.25598147 0.         0.         0.\n",
            "  0.         0.         0.21248661 0.         0.         0.\n",
            "  0.         0.         0.         0.         0.         0.\n",
            "  0.         0.         0.         0.25598147 0.         0.\n",
            "  0.         0.25598147 0.         0.         0.         0.15768956\n",
            "  0.25598147 0.         0.         0.25598147 0.25598147 0.\n",
            "  0.         0.         0.         0.         0.         0.\n",
            "  0.         0.         0.         0.         0.         0.\n",
            "  0.25598147 0.         0.         0.         0.25598147 0.21248661\n",
            "  0.         0.         0.         0.         0.         0.25598147\n",
            "  0.         0.         0.         0.         0.         0.\n",
            "  0.         0.         0.25598147 0.         0.         0.25598147\n",
            "  0.18162651 0.         0.         0.         0.         0.\n",
            "  0.        ]\n",
            " [0.         0.         0.         0.         0.         0.\n",
            "  0.         0.256378   0.         0.         0.         0.\n",
            "  0.         0.256378   0.         0.         0.         0.\n",
            "  0.         0.         0.         0.         0.         0.\n",
            "  0.         0.         0.         0.         0.         0.\n",
            "  0.         0.         0.         0.21281576 0.         0.31586765\n",
            "  0.         0.         0.         0.         0.         0.\n",
            "  0.256378   0.         0.         0.         0.         0.256378\n",
            "  0.256378   0.         0.256378   0.         0.256378   0.\n",
            "  0.         0.         0.         0.         0.         0.\n",
            "  0.256378   0.         0.256378   0.         0.256378   0.\n",
            "  0.         0.18190785 0.         0.         0.         0.256378\n",
            "  0.         0.         0.         0.         0.         0.\n",
            "  0.18190785 0.256378   0.         0.         0.         0.\n",
            "  0.        ]\n",
            " [0.15157058 0.18259627 0.         0.         0.         0.\n",
            "  0.18259627 0.         0.         0.18259627 0.         0.\n",
            "  0.         0.         0.15157058 0.18259627 0.18259627 0.18259627\n",
            "  0.         0.         0.18259627 0.         0.         0.12955751\n",
            "  0.         0.         0.18259627 0.         0.         0.12955751\n",
            "  0.         0.         0.         0.15157058 0.36519253 0.33744853\n",
            "  0.         0.18259627 0.18259627 0.         0.         0.\n",
            "  0.         0.         0.         0.         0.18259627 0.\n",
            "  0.         0.18259627 0.         0.         0.         0.18259627\n",
            "  0.         0.         0.         0.18259627 0.         0.\n",
            "  0.         0.         0.         0.18259627 0.         0.\n",
            "  0.         0.12955751 0.         0.18259627 0.         0.\n",
            "  0.         0.         0.         0.         0.18259627 0.\n",
            "  0.         0.         0.         0.18259627 0.         0.\n",
            "  0.18259627]\n",
            " [0.         0.         0.         0.         0.         0.\n",
            "  0.         0.         0.         0.         0.         0.\n",
            "  0.         0.         0.         0.         0.         0.\n",
            "  0.         0.         0.         0.         0.         0.24060976\n",
            "  0.         0.         0.         0.         0.         0.24060976\n",
            "  0.33911151 0.         0.33911151 0.         0.         0.\n",
            "  0.         0.         0.         0.         0.         0.\n",
            "  0.         0.         0.33911151 0.         0.         0.\n",
            "  0.         0.         0.         0.         0.         0.\n",
            "  0.         0.33911151 0.33911151 0.         0.         0.\n",
            "  0.         0.         0.         0.         0.         0.\n",
            "  0.33911151 0.         0.28149168 0.         0.         0.\n",
            "  0.         0.         0.         0.33911151 0.         0.\n",
            "  0.         0.         0.         0.         0.         0.\n",
            "  0.        ]\n",
            " [0.22533266 0.         0.         0.         0.         0.27145704\n",
            "  0.         0.         0.         0.         0.27145704 0.27145704\n",
            "  0.         0.         0.         0.         0.         0.\n",
            "  0.27145704 0.         0.         0.27145704 0.         0.\n",
            "  0.         0.         0.         0.         0.         0.19260688\n",
            "  0.         0.         0.         0.         0.         0.\n",
            "  0.         0.         0.         0.         0.         0.27145704\n",
            "  0.         0.         0.         0.27145704 0.         0.\n",
            "  0.         0.         0.         0.27145704 0.         0.\n",
            "  0.         0.         0.         0.         0.         0.22533266\n",
            "  0.         0.         0.         0.         0.         0.\n",
            "  0.         0.         0.22533266 0.         0.         0.\n",
            "  0.27145704 0.27145704 0.         0.         0.         0.\n",
            "  0.         0.         0.         0.         0.27145704 0.\n",
            "  0.        ]\n",
            " [0.         0.         0.         0.         0.42626843 0.\n",
            "  0.         0.         0.         0.         0.         0.\n",
            "  0.42626843 0.         0.         0.         0.         0.\n",
            "  0.         0.         0.         0.         0.42626843 0.30245019\n",
            "  0.         0.         0.         0.         0.         0.\n",
            "  0.         0.         0.         0.         0.         0.\n",
            "  0.         0.         0.         0.         0.         0.\n",
            "  0.         0.42626843 0.         0.         0.         0.\n",
            "  0.         0.         0.         0.         0.         0.\n",
            "  0.         0.         0.         0.         0.         0.\n",
            "  0.         0.         0.         0.         0.         0.\n",
            "  0.         0.         0.         0.         0.         0.\n",
            "  0.         0.         0.         0.         0.         0.\n",
            "  0.         0.         0.         0.         0.         0.42626843\n",
            "  0.        ]]\n"
          ]
        }
      ]
    },
    {
      "cell_type": "code",
      "source": [
        "from sklearn.cluster import KMeans\n",
        "\n",
        "# Обучим модель k-средних с двумя кластерами\n",
        "kmeans = KMeans(n_clusters=2).fit(X)"
      ],
      "metadata": {
        "id": "USq2d-u6RnKm"
      },
      "execution_count": 11,
      "outputs": []
    },
    {
      "cell_type": "code",
      "source": [
        "# Предскажем кластеры для каждого предложения\n",
        "predicted_clusters = kmeans.predict(X)\n",
        "\n",
        "# Выведем предложения с их кластерами\n",
        "for i, sentence in enumerate(sentences):\n",
        "    print(f\"Кластер {predicted_clusters[i]}: {sentence}\")"
      ],
      "metadata": {
        "colab": {
          "base_uri": "https://localhost:8080/"
        },
        "id": "uejxEaqxRrWd",
        "outputId": "9d72b3e4-ca4b-4f08-e08d-c9aad43663eb"
      },
      "execution_count": 12,
      "outputs": [
        {
          "output_type": "stream",
          "name": "stdout",
          "text": [
            "Кластер 0: Steam is a video game digital distribution service and storefront developed by Valve Corporation.\n",
            "Кластер 1: It was launched as a software client in September 2003 to provide game updates automatically for Valve's games, and expanded to distributing third-party titles in late 2005.\n",
            "Кластер 0: Steam offers various features, like game server matchmaking with Valve Anti-Cheat measures, social networking, and game streaming services.\n",
            "Кластер 1: Steam client's functions include game update automation, cloud storage for game progress, and community features such as direct messaging, in-game overlay functions and a virtual collectable marketplace.The Great Depression (1929–1939) was an economic shock that affected most countries across the world.\n",
            "Кластер 1: It was a period of economic depression that became evident after a major fall in stock prices in the United States.\n",
            "Кластер 1: The economic contagion began around September 1929 and led to the Wall Street stock market crash of 24 October (Black Thursday).\n",
            "Кластер 1: It was the longest, deepest, and most widespread depression of the 20th century.\n"
          ]
        }
      ]
    },
    {
      "cell_type": "code",
      "source": [
        "# Оценка качества кластеризации\n",
        "print(\"Оценка качества кластеризации:\")\n",
        "for i, cluster in enumerate(predicted_clusters):\n",
        "    print(f\"Предложение {i+1} отнесено к кластеру {cluster}\")"
      ],
      "metadata": {
        "colab": {
          "base_uri": "https://localhost:8080/"
        },
        "id": "DK0h14LyRuja",
        "outputId": "8a3c40ec-0d7b-44d8-f4d9-51a05aa8c9ed"
      },
      "execution_count": 13,
      "outputs": [
        {
          "output_type": "stream",
          "name": "stdout",
          "text": [
            "Оценка качества кластеризации:\n",
            "Предложение 1 отнесено к кластеру 0\n",
            "Предложение 2 отнесено к кластеру 1\n",
            "Предложение 3 отнесено к кластеру 0\n",
            "Предложение 4 отнесено к кластеру 1\n",
            "Предложение 5 отнесено к кластеру 1\n",
            "Предложение 6 отнесено к кластеру 1\n",
            "Предложение 7 отнесено к кластеру 1\n"
          ]
        }
      ]
    }
  ]
}